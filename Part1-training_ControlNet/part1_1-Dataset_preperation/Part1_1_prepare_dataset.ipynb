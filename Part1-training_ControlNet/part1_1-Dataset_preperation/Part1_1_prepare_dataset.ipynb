{
  "cells": [
    {
      "attachments": {},
      "cell_type": "markdown",
      "metadata": {
        "id": "j99TsFi-07LU"
      },
      "source": [
        "[![Open In Colab](https://colab.research.google.com/assets/colab-badge.svg)](https://githubtocolab.com/devdastl/EVA-8_Capstone_Assignment/blob/main/Part1-training_ControlNet/part1_1-Dataset_preperation/Part1_1-prepare_dataset.ipynb)"
      ]
    },
    {
      "cell_type": "code",
      "execution_count": 22,
      "metadata": {
        "id": "SoG8v0nbJVnB"
      },
      "outputs": [],
      "source": [
        "import os"
      ]
    },
    {
      "attachments": {},
      "cell_type": "markdown",
      "metadata": {
        "id": "NSlGwIrW07LZ"
      },
      "source": [
        "# Prepare environment and download dataset"
      ]
    },
    {
      "attachments": {},
      "cell_type": "markdown",
      "metadata": {
        "id": "N_JzHW7a1-MV"
      },
      "source": [
        "1. Attach google drive to save our prepared dataset and trained model for safey"
      ]
    },
    {
      "cell_type": "code",
      "execution_count": 23,
      "metadata": {
        "colab": {
          "base_uri": "https://localhost:8080/"
        },
        "id": "uGF6TCGiIKCQ",
        "outputId": "9e6c6854-7649-4cae-c2d1-6e40611475bb"
      },
      "outputs": [
        {
          "name": "stdout",
          "output_type": "stream",
          "text": [
            "Drive already mounted at /content/gdrive; to attempt to forcibly remount, call drive.mount(\"/content/gdrive\", force_remount=True).\n",
            "mkdir: cannot create directory ‘/content/gdrive/MyDrive/controlnet_dataset’: File exists\n"
          ]
        }
      ],
      "source": [
        "from google.colab import drive\n",
        "\n",
        "drive.mount(\"/content/gdrive\")\n",
        "!mkdir /content/gdrive/MyDrive/controlnet_dataset"
      ]
    },
    {
      "attachments": {},
      "cell_type": "markdown",
      "metadata": {
        "id": "ALhG2ZvR1Qr4"
      },
      "source": [
        "2. clone our repo to access all the source code for dataset preperation"
      ]
    },
    {
      "cell_type": "code",
      "execution_count": 24,
      "metadata": {
        "colab": {
          "base_uri": "https://localhost:8080/"
        },
        "id": "TeYkUem7IlSD",
        "outputId": "74d64692-ae21-4af6-d4b7-32d32b94ea83"
      },
      "outputs": [
        {
          "name": "stdout",
          "output_type": "stream",
          "text": [
            "Cloning into 'EVA-8_Capstone_Assignment'...\n",
            "remote: Enumerating objects: 208, done.\u001b[K\n",
            "remote: Counting objects: 100% (208/208), done.\u001b[K\n",
            "remote: Compressing objects: 100% (173/173), done.\u001b[K\n",
            "remote: Total 208 (delta 43), reused 189 (delta 28), pack-reused 0\u001b[K\n",
            "Receiving objects: 100% (208/208), 5.16 MiB | 19.93 MiB/s, done.\n",
            "Resolving deltas: 100% (43/43), done.\n",
            "annotator  __init__.py\t\t\t  requirements.txt\n",
            "captioner  Part1_1-prepare_dataset.ipynb  run_generation.py\n"
          ]
        }
      ],
      "source": [
        "!git clone https://github.com/devdastl/EVA-8_Capstone_Assignment.git\n",
        "os.chdir('EVA-8_Capstone_Assignment/Part1-training_ControlNet/part1_1-Dataset_preperation')\n",
        "!ls"
      ]
    },
    {
      "attachments": {},
      "cell_type": "markdown",
      "metadata": {
        "id": "Zlw-ymPv07Lb"
      },
      "source": [
        "#### 3. Dataset download\n",
        "- Here we are using ImageNetDog dataset which contains approx 20k images of dogs\n",
        "- It can take some time while unzipping all the images to the the directory"
      ]
    },
    {
      "cell_type": "code",
      "execution_count": null,
      "metadata": {
        "id": "75PXfoh3HCur"
      },
      "outputs": [],
      "source": [
        "!wget http://vision.stanford.edu/aditya86/ImageNetDogs/images.tar -P ./\n",
        "!tar -C ./ -xvf ./images.tar\n",
        "!rm images.tar"
      ]
    },
    {
      "cell_type": "code",
      "execution_count": 28,
      "metadata": {
        "colab": {
          "base_uri": "https://localhost:8080/"
        },
        "id": "tcP3WbSyLECQ",
        "outputId": "2a3fdacc-063c-4c74-a7aa-4e5064dcd6f0"
      },
      "outputs": [
        {
          "name": "stdout",
          "output_type": "stream",
          "text": [
            "n02085620-Chihuahua\t\t\t  n02100583-vizsla\n",
            "n02085782-Japanese_spaniel\t\t  n02100735-English_setter\n",
            "n02085936-Maltese_dog\t\t\t  n02100877-Irish_setter\n",
            "n02086079-Pekinese\t\t\t  n02101006-Gordon_setter\n",
            "n02086240-Shih-Tzu\t\t\t  n02101388-Brittany_spaniel\n",
            "n02086646-Blenheim_spaniel\t\t  n02101556-clumber\n",
            "n02086910-papillon\t\t\t  n02102040-English_springer\n",
            "n02087046-toy_terrier\t\t\t  n02102177-Welsh_springer_spaniel\n",
            "n02087394-Rhodesian_ridgeback\t\t  n02102318-cocker_spaniel\n",
            "n02088094-Afghan_hound\t\t\t  n02102480-Sussex_spaniel\n",
            "n02088238-basset\t\t\t  n02102973-Irish_water_spaniel\n",
            "n02088364-beagle\t\t\t  n02104029-kuvasz\n",
            "n02088466-bloodhound\t\t\t  n02104365-schipperke\n",
            "n02088632-bluetick\t\t\t  n02105056-groenendael\n",
            "n02089078-black-and-tan_coonhound\t  n02105162-malinois\n",
            "n02089867-Walker_hound\t\t\t  n02105251-briard\n",
            "n02089973-English_foxhound\t\t  n02105412-kelpie\n",
            "n02090379-redbone\t\t\t  n02105505-komondor\n",
            "n02090622-borzoi\t\t\t  n02105641-Old_English_sheepdog\n",
            "n02090721-Irish_wolfhound\t\t  n02105855-Shetland_sheepdog\n",
            "n02091032-Italian_greyhound\t\t  n02106030-collie\n",
            "n02091134-whippet\t\t\t  n02106166-Border_collie\n",
            "n02091244-Ibizan_hound\t\t\t  n02106382-Bouvier_des_Flandres\n",
            "n02091467-Norwegian_elkhound\t\t  n02106550-Rottweiler\n",
            "n02091635-otterhound\t\t\t  n02106662-German_shepherd\n",
            "n02091831-Saluki\t\t\t  n02107142-Doberman\n",
            "n02092002-Scottish_deerhound\t\t  n02107312-miniature_pinscher\n",
            "n02092339-Weimaraner\t\t\t  n02107574-Greater_Swiss_Mountain_dog\n",
            "n02093256-Staffordshire_bullterrier\t  n02107683-Bernese_mountain_dog\n",
            "n02093428-American_Staffordshire_terrier  n02107908-Appenzeller\n",
            "n02093647-Bedlington_terrier\t\t  n02108000-EntleBucher\n",
            "n02093754-Border_terrier\t\t  n02108089-boxer\n",
            "n02093859-Kerry_blue_terrier\t\t  n02108422-bull_mastiff\n",
            "n02093991-Irish_terrier\t\t\t  n02108551-Tibetan_mastiff\n",
            "n02094114-Norfolk_terrier\t\t  n02108915-French_bulldog\n",
            "n02094258-Norwich_terrier\t\t  n02109047-Great_Dane\n",
            "n02094433-Yorkshire_terrier\t\t  n02109525-Saint_Bernard\n",
            "n02095314-wire-haired_fox_terrier\t  n02109961-Eskimo_dog\n",
            "n02095570-Lakeland_terrier\t\t  n02110063-malamute\n",
            "n02095889-Sealyham_terrier\t\t  n02110185-Siberian_husky\n",
            "n02096051-Airedale\t\t\t  n02110627-affenpinscher\n",
            "n02096177-cairn\t\t\t\t  n02110806-basenji\n",
            "n02096294-Australian_terrier\t\t  n02110958-pug\n",
            "n02096437-Dandie_Dinmont\t\t  n02111129-Leonberg\n",
            "n02096585-Boston_bull\t\t\t  n02111277-Newfoundland\n",
            "n02097047-miniature_schnauzer\t\t  n02111500-Great_Pyrenees\n",
            "n02097130-giant_schnauzer\t\t  n02111889-Samoyed\n",
            "n02097209-standard_schnauzer\t\t  n02112018-Pomeranian\n",
            "n02097298-Scotch_terrier\t\t  n02112137-chow\n",
            "n02097474-Tibetan_terrier\t\t  n02112350-keeshond\n",
            "n02097658-silky_terrier\t\t\t  n02112706-Brabancon_griffon\n",
            "n02098105-soft-coated_wheaten_terrier\t  n02113023-Pembroke\n",
            "n02098286-West_Highland_white_terrier\t  n02113186-Cardigan\n",
            "n02098413-Lhasa\t\t\t\t  n02113624-toy_poodle\n",
            "n02099267-flat-coated_retriever\t\t  n02113712-miniature_poodle\n",
            "n02099429-curly-coated_retriever\t  n02113799-standard_poodle\n",
            "n02099601-golden_retriever\t\t  n02113978-Mexican_hairless\n",
            "n02099712-Labrador_retriever\t\t  n02115641-dingo\n",
            "n02099849-Chesapeake_Bay_retriever\t  n02115913-dhole\n",
            "n02100236-German_short-haired_pointer\t  n02116738-African_hunting_dog\n"
          ]
        }
      ],
      "source": [
        "image_path = \"./Images\"\n",
        "source_path = \"../\"\n",
        "os.chdir(image_path)\n",
        "!ls"
      ]
    },
    {
      "attachments": {},
      "cell_type": "markdown",
      "metadata": {
        "id": "Amkv4WtUM4MD"
      },
      "source": [
        "- We need all the images in one single folder. Below line of code copies all images from class sub-directory to main \"Image directory\" and delete other sub-folders\n",
        "- Takes some time to move all images from sub folder to main folder"
      ]
    },
    {
      "cell_type": "code",
      "execution_count": 29,
      "metadata": {
        "colab": {
          "base_uri": "https://localhost:8080/"
        },
        "id": "7x42IOfPLggJ",
        "outputId": "884261da-682e-4d69-cb39-ece9be39e440"
      },
      "outputs": [
        {
          "data": {
            "text/plain": [
              "0"
            ]
          },
          "execution_count": 29,
          "metadata": {},
          "output_type": "execute_result"
        }
      ],
      "source": [
        "os.system(\"find . -type f -print0 | xargs -0 mv -t .\")\n",
        "os.system(\"find . -type d -empty -delete\")"
      ]
    },
    {
      "attachments": {},
      "cell_type": "markdown",
      "metadata": {
        "id": "qU5xJozDNCep"
      },
      "source": [
        "- For demo, we are only using 100 images and deleting rest of them.\n",
        "- But the model we trained is trained on whole 20k images\n",
        "\n",
        "**NOTE:** Please don't run below cell if you want to train on whole 20k images. Below cell only retain 100 images and deletes rest of them. This is just for the demo. Original model was trained on all images loacally. "
      ]
    },
    {
      "cell_type": "code",
      "execution_count": 30,
      "metadata": {
        "colab": {
          "base_uri": "https://localhost:8080/"
        },
        "id": "csF7H0JxMy_Z",
        "outputId": "754cd025-7863-4bf6-8999-c4de1f08b65a"
      },
      "outputs": [
        {
          "name": "stdout",
          "output_type": "stream",
          "text": [
            "ls -1 ./ | tail -n +101 | xargs -I {} rm .//{}\n"
          ]
        },
        {
          "data": {
            "text/plain": [
              "0"
            ]
          },
          "execution_count": 30,
          "metadata": {},
          "output_type": "execute_result"
        }
      ],
      "source": [
        "command = \"ls -1 \" + './' +\" | tail -n +101 | xargs -I {} rm \" + './' + \"/{}\"\n",
        "print(command)\n",
        "os.system(command)\n"
      ]
    },
    {
      "cell_type": "code",
      "execution_count": 31,
      "metadata": {
        "colab": {
          "base_uri": "https://localhost:8080/"
        },
        "id": "qbFk78P24VX0",
        "outputId": "c49e99d0-97ba-4400-a5cb-2b6a0cc7488b"
      },
      "outputs": [
        {
          "name": "stdout",
          "output_type": "stream",
          "text": [
            "100\n"
          ]
        }
      ],
      "source": [
        "!find . -type f | wc -l"
      ]
    },
    {
      "cell_type": "code",
      "execution_count": 32,
      "metadata": {
        "colab": {
          "base_uri": "https://localhost:8080/"
        },
        "id": "_-YqppsuOe6-",
        "outputId": "9b299368-301e-4c65-a973-5b3c62696462"
      },
      "outputs": [
        {
          "name": "stdout",
          "output_type": "stream",
          "text": [
            "annotator  Images\tPart1_1-prepare_dataset.ipynb  run_generation.py\n",
            "captioner  __init__.py\trequirements.txt\n"
          ]
        }
      ],
      "source": [
        "os.chdir(source_path)\n",
        "!ls"
      ]
    },
    {
      "attachments": {},
      "cell_type": "markdown",
      "metadata": {
        "id": "zxvnNi0bcfi-"
      },
      "source": [
        "# Generate canny edge images and prompt using BLIP"
      ]
    },
    {
      "attachments": {},
      "cell_type": "markdown",
      "metadata": {
        "id": "fpPSfyfk48iw"
      },
      "source": [
        "- Since the depency for the code is dependent on python3.8. Here we are installing python3.8 in our colab environment.\n",
        "- This process can take some time\n",
        "- In the below terminal, please enter option 2 when asked to select python3.8"
      ]
    },
    {
      "cell_type": "code",
      "execution_count": 33,
      "metadata": {
        "colab": {
          "base_uri": "https://localhost:8080/"
        },
        "id": "LD-I0ateAWIF",
        "outputId": "a588e4a3-0883-4da3-8873-2065e95951b3"
      },
      "outputs": [
        {
          "name": "stdout",
          "output_type": "stream",
          "text": [
            "update-alternatives: --install needs <link> <name> <path> <priority>\n",
            "\n",
            "Use 'update-alternatives --help' for program usage information.\n",
            "There are 2 choices for the alternative python3 (providing /usr/bin/python3).\n",
            "\n",
            "  Selection    Path                 Priority   Status\n",
            "------------------------------------------------------------\n",
            "  0            /usr/bin/python3.10   2         auto mode\n",
            "  1            /usr/bin/python3.10   2         manual mode\n",
            "* 2            /usr/bin/python3.8    1         manual mode\n",
            "\n",
            "Press <enter> to keep the current choice[*], or type selection number: 2\n",
            "Reading package lists... Done\n",
            "Building dependency tree       \n",
            "Reading state information... Done\n",
            "python3-pip is already the newest version (20.0.2-5ubuntu1.8).\n",
            "0 upgraded, 0 newly installed, 0 to remove and 34 not upgraded.\n"
          ]
        }
      ],
      "source": [
        "!sudo update-alternatives --install /usr/bin/python3 python3 /usr/bin/python3.8.10\n",
        "!sudo update-alternatives --config python3\n",
        "!sudo apt install python3-pip"
      ]
    },
    {
      "attachments": {},
      "cell_type": "markdown",
      "metadata": {
        "id": "FYm-g1gB5mxv"
      },
      "source": [
        "- Install other python requirements.\n",
        "- Since we are using a trained model \"BLIP\" to generate our captions. Install requirements can take some time."
      ]
    },
    {
      "cell_type": "code",
      "execution_count": 34,
      "metadata": {
        "colab": {
          "base_uri": "https://localhost:8080/"
        },
        "id": "NKutcsyLgf4D",
        "outputId": "1651b86d-37bb-4006-dd08-1bdd305c59ca"
      },
      "outputs": [
        {
          "name": "stdout",
          "output_type": "stream",
          "text": [
            "Looking in indexes: https://pypi.org/simple, https://us-python.pkg.dev/colab-wheels/public/simple/\n",
            "Requirement already satisfied: timm==0.4.12 in /usr/local/lib/python3.8/dist-packages (from -r requirements.txt (line 1)) (0.4.12)\n",
            "Requirement already satisfied: transformers==4.15.0 in /usr/local/lib/python3.8/dist-packages (from -r requirements.txt (line 2)) (4.15.0)\n",
            "Requirement already satisfied: fairscale==0.4.4 in /usr/local/lib/python3.8/dist-packages (from -r requirements.txt (line 3)) (0.4.4)\n",
            "Requirement already satisfied: pycocoevalcap in /usr/local/lib/python3.8/dist-packages (from -r requirements.txt (line 4)) (1.2)\n",
            "Requirement already satisfied: opencv-python-headless in /usr/local/lib/python3.8/dist-packages (from -r requirements.txt (line 5)) (4.7.0.72)\n",
            "Requirement already satisfied: torchvision in /usr/local/lib/python3.8/dist-packages (from timm==0.4.12->-r requirements.txt (line 1)) (0.15.2)\n",
            "Requirement already satisfied: torch>=1.4 in /usr/local/lib/python3.8/dist-packages (from timm==0.4.12->-r requirements.txt (line 1)) (2.0.1)\n",
            "Requirement already satisfied: tokenizers<0.11,>=0.10.1 in /usr/local/lib/python3.8/dist-packages (from transformers==4.15.0->-r requirements.txt (line 2)) (0.10.3)\n",
            "Requirement already satisfied: regex!=2019.12.17 in /usr/local/lib/python3.8/dist-packages (from transformers==4.15.0->-r requirements.txt (line 2)) (2023.5.5)\n",
            "Requirement already satisfied: numpy>=1.17 in /usr/local/lib/python3.8/dist-packages (from transformers==4.15.0->-r requirements.txt (line 2)) (1.24.3)\n",
            "Requirement already satisfied: filelock in /usr/local/lib/python3.8/dist-packages (from transformers==4.15.0->-r requirements.txt (line 2)) (3.12.0)\n",
            "Requirement already satisfied: tqdm>=4.27 in /usr/local/lib/python3.8/dist-packages (from transformers==4.15.0->-r requirements.txt (line 2)) (4.65.0)\n",
            "Requirement already satisfied: packaging>=20.0 in /usr/local/lib/python3.8/dist-packages (from transformers==4.15.0->-r requirements.txt (line 2)) (23.1)\n",
            "Requirement already satisfied: huggingface-hub<1.0,>=0.1.0 in /usr/local/lib/python3.8/dist-packages (from transformers==4.15.0->-r requirements.txt (line 2)) (0.14.1)\n",
            "Requirement already satisfied: sacremoses in /usr/local/lib/python3.8/dist-packages (from transformers==4.15.0->-r requirements.txt (line 2)) (0.0.53)\n",
            "Requirement already satisfied: pyyaml>=5.1 in /usr/local/lib/python3.8/dist-packages (from transformers==4.15.0->-r requirements.txt (line 2)) (6.0)\n",
            "Requirement already satisfied: requests in /usr/local/lib/python3.8/dist-packages (from transformers==4.15.0->-r requirements.txt (line 2)) (2.31.0)\n",
            "Requirement already satisfied: pycocotools>=2.0.2 in /usr/local/lib/python3.8/dist-packages (from pycocoevalcap->-r requirements.txt (line 4)) (2.0.6)\n",
            "Requirement already satisfied: pillow!=8.3.*,>=5.3.0 in /usr/local/lib/python3.8/dist-packages (from torchvision->timm==0.4.12->-r requirements.txt (line 1)) (9.5.0)\n",
            "Requirement already satisfied: nvidia-cusparse-cu11==11.7.4.91; platform_system == \"Linux\" and platform_machine == \"x86_64\" in /usr/local/lib/python3.8/dist-packages (from torch>=1.4->timm==0.4.12->-r requirements.txt (line 1)) (11.7.4.91)\n",
            "Requirement already satisfied: nvidia-cuda-cupti-cu11==11.7.101; platform_system == \"Linux\" and platform_machine == \"x86_64\" in /usr/local/lib/python3.8/dist-packages (from torch>=1.4->timm==0.4.12->-r requirements.txt (line 1)) (11.7.101)\n",
            "Requirement already satisfied: nvidia-curand-cu11==10.2.10.91; platform_system == \"Linux\" and platform_machine == \"x86_64\" in /usr/local/lib/python3.8/dist-packages (from torch>=1.4->timm==0.4.12->-r requirements.txt (line 1)) (10.2.10.91)\n",
            "Requirement already satisfied: jinja2 in /usr/local/lib/python3.8/dist-packages (from torch>=1.4->timm==0.4.12->-r requirements.txt (line 1)) (3.1.2)\n",
            "Requirement already satisfied: nvidia-cusolver-cu11==11.4.0.1; platform_system == \"Linux\" and platform_machine == \"x86_64\" in /usr/local/lib/python3.8/dist-packages (from torch>=1.4->timm==0.4.12->-r requirements.txt (line 1)) (11.4.0.1)\n",
            "Requirement already satisfied: nvidia-nvtx-cu11==11.7.91; platform_system == \"Linux\" and platform_machine == \"x86_64\" in /usr/local/lib/python3.8/dist-packages (from torch>=1.4->timm==0.4.12->-r requirements.txt (line 1)) (11.7.91)\n",
            "Requirement already satisfied: networkx in /usr/local/lib/python3.8/dist-packages (from torch>=1.4->timm==0.4.12->-r requirements.txt (line 1)) (3.1)\n",
            "Requirement already satisfied: typing-extensions in /usr/local/lib/python3.8/dist-packages (from torch>=1.4->timm==0.4.12->-r requirements.txt (line 1)) (4.6.2)\n",
            "Requirement already satisfied: sympy in /usr/local/lib/python3.8/dist-packages (from torch>=1.4->timm==0.4.12->-r requirements.txt (line 1)) (1.12)\n",
            "Requirement already satisfied: triton==2.0.0; platform_system == \"Linux\" and platform_machine == \"x86_64\" in /usr/local/lib/python3.8/dist-packages (from torch>=1.4->timm==0.4.12->-r requirements.txt (line 1)) (2.0.0)\n",
            "Requirement already satisfied: nvidia-cuda-nvrtc-cu11==11.7.99; platform_system == \"Linux\" and platform_machine == \"x86_64\" in /usr/local/lib/python3.8/dist-packages (from torch>=1.4->timm==0.4.12->-r requirements.txt (line 1)) (11.7.99)\n",
            "Requirement already satisfied: nvidia-cuda-runtime-cu11==11.7.99; platform_system == \"Linux\" and platform_machine == \"x86_64\" in /usr/local/lib/python3.8/dist-packages (from torch>=1.4->timm==0.4.12->-r requirements.txt (line 1)) (11.7.99)\n",
            "Requirement already satisfied: nvidia-cudnn-cu11==8.5.0.96; platform_system == \"Linux\" and platform_machine == \"x86_64\" in /usr/local/lib/python3.8/dist-packages (from torch>=1.4->timm==0.4.12->-r requirements.txt (line 1)) (8.5.0.96)\n",
            "Requirement already satisfied: nvidia-cublas-cu11==11.10.3.66; platform_system == \"Linux\" and platform_machine == \"x86_64\" in /usr/local/lib/python3.8/dist-packages (from torch>=1.4->timm==0.4.12->-r requirements.txt (line 1)) (11.10.3.66)\n",
            "Requirement already satisfied: nvidia-nccl-cu11==2.14.3; platform_system == \"Linux\" and platform_machine == \"x86_64\" in /usr/local/lib/python3.8/dist-packages (from torch>=1.4->timm==0.4.12->-r requirements.txt (line 1)) (2.14.3)\n",
            "Requirement already satisfied: nvidia-cufft-cu11==10.9.0.58; platform_system == \"Linux\" and platform_machine == \"x86_64\" in /usr/local/lib/python3.8/dist-packages (from torch>=1.4->timm==0.4.12->-r requirements.txt (line 1)) (10.9.0.58)\n",
            "Requirement already satisfied: fsspec in /usr/local/lib/python3.8/dist-packages (from huggingface-hub<1.0,>=0.1.0->transformers==4.15.0->-r requirements.txt (line 2)) (2023.5.0)\n",
            "Requirement already satisfied: click in /usr/local/lib/python3.8/dist-packages (from sacremoses->transformers==4.15.0->-r requirements.txt (line 2)) (8.1.3)\n",
            "Requirement already satisfied: six in /usr/local/lib/python3.8/dist-packages (from sacremoses->transformers==4.15.0->-r requirements.txt (line 2)) (1.16.0)\n",
            "Requirement already satisfied: joblib in /usr/local/lib/python3.8/dist-packages (from sacremoses->transformers==4.15.0->-r requirements.txt (line 2)) (1.2.0)\n",
            "Requirement already satisfied: certifi>=2017.4.17 in /usr/local/lib/python3.8/dist-packages (from requests->transformers==4.15.0->-r requirements.txt (line 2)) (2023.5.7)\n",
            "Requirement already satisfied: urllib3<3,>=1.21.1 in /usr/local/lib/python3.8/dist-packages (from requests->transformers==4.15.0->-r requirements.txt (line 2)) (2.0.2)\n",
            "Requirement already satisfied: charset-normalizer<4,>=2 in /usr/local/lib/python3.8/dist-packages (from requests->transformers==4.15.0->-r requirements.txt (line 2)) (3.1.0)\n",
            "Requirement already satisfied: idna<4,>=2.5 in /usr/local/lib/python3.8/dist-packages (from requests->transformers==4.15.0->-r requirements.txt (line 2)) (3.4)\n",
            "Requirement already satisfied: matplotlib>=2.1.0 in /usr/local/lib/python3.8/dist-packages (from pycocotools>=2.0.2->pycocoevalcap->-r requirements.txt (line 4)) (3.7.1)\n",
            "Requirement already satisfied: wheel in /usr/lib/python3/dist-packages (from nvidia-cusparse-cu11==11.7.4.91; platform_system == \"Linux\" and platform_machine == \"x86_64\"->torch>=1.4->timm==0.4.12->-r requirements.txt (line 1)) (0.34.2)\n",
            "Requirement already satisfied: setuptools in /usr/lib/python3/dist-packages (from nvidia-cusparse-cu11==11.7.4.91; platform_system == \"Linux\" and platform_machine == \"x86_64\"->torch>=1.4->timm==0.4.12->-r requirements.txt (line 1)) (45.2.0)\n",
            "Requirement already satisfied: MarkupSafe>=2.0 in /usr/local/lib/python3.8/dist-packages (from jinja2->torch>=1.4->timm==0.4.12->-r requirements.txt (line 1)) (2.1.2)\n",
            "Requirement already satisfied: mpmath>=0.19 in /usr/local/lib/python3.8/dist-packages (from sympy->torch>=1.4->timm==0.4.12->-r requirements.txt (line 1)) (1.3.0)\n",
            "Requirement already satisfied: lit in /usr/local/lib/python3.8/dist-packages (from triton==2.0.0; platform_system == \"Linux\" and platform_machine == \"x86_64\"->torch>=1.4->timm==0.4.12->-r requirements.txt (line 1)) (16.0.5)\n",
            "Requirement already satisfied: cmake in /usr/local/lib/python3.8/dist-packages (from triton==2.0.0; platform_system == \"Linux\" and platform_machine == \"x86_64\"->torch>=1.4->timm==0.4.12->-r requirements.txt (line 1)) (3.26.3)\n",
            "Requirement already satisfied: fonttools>=4.22.0 in /usr/local/lib/python3.8/dist-packages (from matplotlib>=2.1.0->pycocotools>=2.0.2->pycocoevalcap->-r requirements.txt (line 4)) (4.39.4)\n",
            "Requirement already satisfied: python-dateutil>=2.7 in /usr/local/lib/python3.8/dist-packages (from matplotlib>=2.1.0->pycocotools>=2.0.2->pycocoevalcap->-r requirements.txt (line 4)) (2.8.2)\n",
            "Requirement already satisfied: kiwisolver>=1.0.1 in /usr/local/lib/python3.8/dist-packages (from matplotlib>=2.1.0->pycocotools>=2.0.2->pycocoevalcap->-r requirements.txt (line 4)) (1.4.4)\n",
            "Requirement already satisfied: pyparsing>=2.3.1 in /usr/local/lib/python3.8/dist-packages (from matplotlib>=2.1.0->pycocotools>=2.0.2->pycocoevalcap->-r requirements.txt (line 4)) (3.0.9)\n",
            "Requirement already satisfied: importlib-resources>=3.2.0; python_version < \"3.10\" in /usr/local/lib/python3.8/dist-packages (from matplotlib>=2.1.0->pycocotools>=2.0.2->pycocoevalcap->-r requirements.txt (line 4)) (5.12.0)\n",
            "Requirement already satisfied: contourpy>=1.0.1 in /usr/local/lib/python3.8/dist-packages (from matplotlib>=2.1.0->pycocotools>=2.0.2->pycocoevalcap->-r requirements.txt (line 4)) (1.0.7)\n",
            "Requirement already satisfied: cycler>=0.10 in /usr/local/lib/python3.8/dist-packages (from matplotlib>=2.1.0->pycocotools>=2.0.2->pycocoevalcap->-r requirements.txt (line 4)) (0.11.0)\n",
            "Requirement already satisfied: zipp>=3.1.0; python_version < \"3.10\" in /usr/local/lib/python3.8/dist-packages (from importlib-resources>=3.2.0; python_version < \"3.10\"->matplotlib>=2.1.0->pycocotools>=2.0.2->pycocoevalcap->-r requirements.txt (line 4)) (3.15.0)\n"
          ]
        }
      ],
      "source": [
        "!pip install -r requirements.txt"
      ]
    },
    {
      "attachments": {},
      "cell_type": "markdown",
      "metadata": {
        "id": "uzYH5tCREvmy"
      },
      "source": [
        "#### Generate dataset!\n",
        "- Now lets run main script which will take images convert it into edges using Canny detector and then generate prompts using BLIP model.\n",
        "- This code is custom writtern and I will recommand to go through it.\n",
        "- There is a custom class \"BlipCaption\" in captioner/blip_caption.py. This encapulate the inference code for prompt generation.\n",
        "- For more details, please look into README of Part-1\n",
        "\n",
        "**NOTE** - Since there were some import issues when the code of run_generation.py was implemented directly in this notebook. That's why the code is converted into python script.\n",
        "\n",
        "If you are running this on the local system then you can implement the code directly in this notebook!"
      ]
    },
    {
      "cell_type": "code",
      "execution_count": 35,
      "metadata": {
        "colab": {
          "base_uri": "https://localhost:8080/"
        },
        "id": "46TW6228PCAs",
        "outputId": "ac4c241d-2030-4de3-83a4-63b48256dc01"
      },
      "outputs": [
        {
          "name": "stdout",
          "output_type": "stream",
          "text": [
            "Downloading: 100% 226k/226k [00:00<00:00, 546kB/s] \n",
            "Downloading: 100% 28.0/28.0 [00:00<00:00, 157kB/s]\n",
            "Downloading: 100% 455k/455k [00:00<00:00, 739kB/s]\n",
            "Downloading: 100% 570/570 [00:00<00:00, 3.46MB/s]\n",
            "100% 1.97G/1.97G [01:29<00:00, 23.6MB/s]\n",
            "reshape position embedding from 196 to 576\n",
            "load checkpoint from https://storage.googleapis.com/sfr-vision-language-research/BLIP/models/model_base_capfilt_large.pth\n",
            "processing image /content/none/Part1-training_ControlNet/part1_1-Dataset_preperation/EVA-8_Capstone_Assignment/Part1-training_ControlNet/part1_1-Dataset_preperation/EVA-8_Capstone_Assignment/Part1-training_ControlNet/part1_1-Dataset_preperation/Images/n02085620_2650.jpg\n",
            "processing image /content/none/Part1-training_ControlNet/part1_1-Dataset_preperation/EVA-8_Capstone_Assignment/Part1-training_ControlNet/part1_1-Dataset_preperation/EVA-8_Capstone_Assignment/Part1-training_ControlNet/part1_1-Dataset_preperation/Images/n02085620_3402.jpg\n",
            "processing image /content/none/Part1-training_ControlNet/part1_1-Dataset_preperation/EVA-8_Capstone_Assignment/Part1-training_ControlNet/part1_1-Dataset_preperation/EVA-8_Capstone_Assignment/Part1-training_ControlNet/part1_1-Dataset_preperation/Images/n02085620_3110.jpg\n",
            "processing image /content/none/Part1-training_ControlNet/part1_1-Dataset_preperation/EVA-8_Capstone_Assignment/Part1-training_ControlNet/part1_1-Dataset_preperation/EVA-8_Capstone_Assignment/Part1-training_ControlNet/part1_1-Dataset_preperation/Images/n02085620_3877.jpg\n",
            "processing image /content/none/Part1-training_ControlNet/part1_1-Dataset_preperation/EVA-8_Capstone_Assignment/Part1-training_ControlNet/part1_1-Dataset_preperation/EVA-8_Capstone_Assignment/Part1-training_ControlNet/part1_1-Dataset_preperation/Images/n02085620_2921.jpg\n",
            "processing image /content/none/Part1-training_ControlNet/part1_1-Dataset_preperation/EVA-8_Capstone_Assignment/Part1-training_ControlNet/part1_1-Dataset_preperation/EVA-8_Capstone_Assignment/Part1-training_ControlNet/part1_1-Dataset_preperation/Images/n02085620_11238.jpg\n",
            "processing image /content/none/Part1-training_ControlNet/part1_1-Dataset_preperation/EVA-8_Capstone_Assignment/Part1-training_ControlNet/part1_1-Dataset_preperation/EVA-8_Capstone_Assignment/Part1-training_ControlNet/part1_1-Dataset_preperation/Images/n02085620_2793.jpg\n",
            "processing image /content/none/Part1-training_ControlNet/part1_1-Dataset_preperation/EVA-8_Capstone_Assignment/Part1-training_ControlNet/part1_1-Dataset_preperation/EVA-8_Capstone_Assignment/Part1-training_ControlNet/part1_1-Dataset_preperation/Images/n02085620_1620.jpg\n",
            "processing image /content/none/Part1-training_ControlNet/part1_1-Dataset_preperation/EVA-8_Capstone_Assignment/Part1-training_ControlNet/part1_1-Dataset_preperation/EVA-8_Capstone_Assignment/Part1-training_ControlNet/part1_1-Dataset_preperation/Images/n02085620_1152.jpg\n",
            "processing image /content/none/Part1-training_ControlNet/part1_1-Dataset_preperation/EVA-8_Capstone_Assignment/Part1-training_ControlNet/part1_1-Dataset_preperation/EVA-8_Capstone_Assignment/Part1-training_ControlNet/part1_1-Dataset_preperation/Images/n02085620_1558.jpg\n",
            "processing image /content/none/Part1-training_ControlNet/part1_1-Dataset_preperation/EVA-8_Capstone_Assignment/Part1-training_ControlNet/part1_1-Dataset_preperation/EVA-8_Capstone_Assignment/Part1-training_ControlNet/part1_1-Dataset_preperation/Images/n02085620_1569.jpg\n",
            "processing image /content/none/Part1-training_ControlNet/part1_1-Dataset_preperation/EVA-8_Capstone_Assignment/Part1-training_ControlNet/part1_1-Dataset_preperation/EVA-8_Capstone_Assignment/Part1-training_ControlNet/part1_1-Dataset_preperation/Images/n02085620_2981.jpg\n",
            "processing image /content/none/Part1-training_ControlNet/part1_1-Dataset_preperation/EVA-8_Capstone_Assignment/Part1-training_ControlNet/part1_1-Dataset_preperation/EVA-8_Capstone_Assignment/Part1-training_ControlNet/part1_1-Dataset_preperation/Images/n02085620_3742.jpg\n",
            "processing image /content/none/Part1-training_ControlNet/part1_1-Dataset_preperation/EVA-8_Capstone_Assignment/Part1-training_ControlNet/part1_1-Dataset_preperation/EVA-8_Capstone_Assignment/Part1-training_ControlNet/part1_1-Dataset_preperation/Images/n02085620_3093.jpg\n",
            "processing image /content/none/Part1-training_ControlNet/part1_1-Dataset_preperation/EVA-8_Capstone_Assignment/Part1-training_ControlNet/part1_1-Dataset_preperation/EVA-8_Capstone_Assignment/Part1-training_ControlNet/part1_1-Dataset_preperation/Images/n02085620_3875.jpg\n",
            "processing image /content/none/Part1-training_ControlNet/part1_1-Dataset_preperation/EVA-8_Capstone_Assignment/Part1-training_ControlNet/part1_1-Dataset_preperation/EVA-8_Capstone_Assignment/Part1-training_ControlNet/part1_1-Dataset_preperation/Images/n02085620_2590.jpg\n",
            "processing image /content/none/Part1-training_ControlNet/part1_1-Dataset_preperation/EVA-8_Capstone_Assignment/Part1-training_ControlNet/part1_1-Dataset_preperation/EVA-8_Capstone_Assignment/Part1-training_ControlNet/part1_1-Dataset_preperation/Images/n02085620_11696.jpg\n",
            "processing image /content/none/Part1-training_ControlNet/part1_1-Dataset_preperation/EVA-8_Capstone_Assignment/Part1-training_ControlNet/part1_1-Dataset_preperation/EVA-8_Capstone_Assignment/Part1-training_ControlNet/part1_1-Dataset_preperation/Images/n02085620_2815.jpg\n",
            "processing image /content/none/Part1-training_ControlNet/part1_1-Dataset_preperation/EVA-8_Capstone_Assignment/Part1-training_ControlNet/part1_1-Dataset_preperation/EVA-8_Capstone_Assignment/Part1-training_ControlNet/part1_1-Dataset_preperation/Images/n02085620_3763.jpg\n",
            "processing image /content/none/Part1-training_ControlNet/part1_1-Dataset_preperation/EVA-8_Capstone_Assignment/Part1-training_ControlNet/part1_1-Dataset_preperation/EVA-8_Capstone_Assignment/Part1-training_ControlNet/part1_1-Dataset_preperation/Images/n02085620_2693.jpg\n",
            "processing image /content/none/Part1-training_ControlNet/part1_1-Dataset_preperation/EVA-8_Capstone_Assignment/Part1-training_ControlNet/part1_1-Dataset_preperation/EVA-8_Capstone_Assignment/Part1-training_ControlNet/part1_1-Dataset_preperation/Images/n02085620_242.jpg\n",
            "processing image /content/none/Part1-training_ControlNet/part1_1-Dataset_preperation/EVA-8_Capstone_Assignment/Part1-training_ControlNet/part1_1-Dataset_preperation/EVA-8_Capstone_Assignment/Part1-training_ControlNet/part1_1-Dataset_preperation/Images/n02085620_368.jpg\n",
            "processing image /content/none/Part1-training_ControlNet/part1_1-Dataset_preperation/EVA-8_Capstone_Assignment/Part1-training_ControlNet/part1_1-Dataset_preperation/EVA-8_Capstone_Assignment/Part1-training_ControlNet/part1_1-Dataset_preperation/Images/n02085620_3208.jpg\n",
            "processing image /content/none/Part1-training_ControlNet/part1_1-Dataset_preperation/EVA-8_Capstone_Assignment/Part1-training_ControlNet/part1_1-Dataset_preperation/EVA-8_Capstone_Assignment/Part1-training_ControlNet/part1_1-Dataset_preperation/Images/n02085620_4016.jpg\n",
            "processing image /content/none/Part1-training_ControlNet/part1_1-Dataset_preperation/EVA-8_Capstone_Assignment/Part1-training_ControlNet/part1_1-Dataset_preperation/EVA-8_Capstone_Assignment/Part1-training_ControlNet/part1_1-Dataset_preperation/Images/n02085620_4159.jpg\n",
            "processing image /content/none/Part1-training_ControlNet/part1_1-Dataset_preperation/EVA-8_Capstone_Assignment/Part1-training_ControlNet/part1_1-Dataset_preperation/EVA-8_Capstone_Assignment/Part1-training_ControlNet/part1_1-Dataset_preperation/Images/n02085620_275.jpg\n",
            "processing image /content/none/Part1-training_ControlNet/part1_1-Dataset_preperation/EVA-8_Capstone_Assignment/Part1-training_ControlNet/part1_1-Dataset_preperation/EVA-8_Capstone_Assignment/Part1-training_ControlNet/part1_1-Dataset_preperation/Images/n02085620_3880.jpg\n",
            "processing image /content/none/Part1-training_ControlNet/part1_1-Dataset_preperation/EVA-8_Capstone_Assignment/Part1-training_ControlNet/part1_1-Dataset_preperation/EVA-8_Capstone_Assignment/Part1-training_ControlNet/part1_1-Dataset_preperation/Images/n02085620_2517.jpg\n",
            "processing image /content/none/Part1-training_ControlNet/part1_1-Dataset_preperation/EVA-8_Capstone_Assignment/Part1-training_ControlNet/part1_1-Dataset_preperation/EVA-8_Capstone_Assignment/Part1-training_ControlNet/part1_1-Dataset_preperation/Images/n02085620_14516.jpg\n",
            "processing image /content/none/Part1-training_ControlNet/part1_1-Dataset_preperation/EVA-8_Capstone_Assignment/Part1-training_ControlNet/part1_1-Dataset_preperation/EVA-8_Capstone_Assignment/Part1-training_ControlNet/part1_1-Dataset_preperation/Images/n02085620_3407.jpg\n",
            "processing image /content/none/Part1-training_ControlNet/part1_1-Dataset_preperation/EVA-8_Capstone_Assignment/Part1-training_ControlNet/part1_1-Dataset_preperation/EVA-8_Capstone_Assignment/Part1-training_ControlNet/part1_1-Dataset_preperation/Images/n02085620_14413.jpg\n",
            "processing image /content/none/Part1-training_ControlNet/part1_1-Dataset_preperation/EVA-8_Capstone_Assignment/Part1-training_ControlNet/part1_1-Dataset_preperation/EVA-8_Capstone_Assignment/Part1-training_ControlNet/part1_1-Dataset_preperation/Images/n02085620_3488.jpg\n",
            "processing image /content/none/Part1-training_ControlNet/part1_1-Dataset_preperation/EVA-8_Capstone_Assignment/Part1-training_ControlNet/part1_1-Dataset_preperation/EVA-8_Capstone_Assignment/Part1-training_ControlNet/part1_1-Dataset_preperation/Images/n02085620_2204.jpg\n",
            "processing image /content/none/Part1-training_ControlNet/part1_1-Dataset_preperation/EVA-8_Capstone_Assignment/Part1-training_ControlNet/part1_1-Dataset_preperation/EVA-8_Capstone_Assignment/Part1-training_ControlNet/part1_1-Dataset_preperation/Images/n02085620_2479.jpg\n",
            "processing image /content/none/Part1-training_ControlNet/part1_1-Dataset_preperation/EVA-8_Capstone_Assignment/Part1-training_ControlNet/part1_1-Dataset_preperation/EVA-8_Capstone_Assignment/Part1-training_ControlNet/part1_1-Dataset_preperation/Images/n02085620_3423.jpg\n",
            "processing image /content/none/Part1-training_ControlNet/part1_1-Dataset_preperation/EVA-8_Capstone_Assignment/Part1-training_ControlNet/part1_1-Dataset_preperation/EVA-8_Capstone_Assignment/Part1-training_ControlNet/part1_1-Dataset_preperation/Images/n02085620_2706.jpg\n",
            "processing image /content/none/Part1-training_ControlNet/part1_1-Dataset_preperation/EVA-8_Capstone_Assignment/Part1-training_ControlNet/part1_1-Dataset_preperation/EVA-8_Capstone_Assignment/Part1-training_ControlNet/part1_1-Dataset_preperation/Images/n02085620_11337.jpg\n",
            "processing image /content/none/Part1-training_ControlNet/part1_1-Dataset_preperation/EVA-8_Capstone_Assignment/Part1-training_ControlNet/part1_1-Dataset_preperation/EVA-8_Capstone_Assignment/Part1-training_ControlNet/part1_1-Dataset_preperation/Images/n02085620_1298.jpg\n",
            "processing image /content/none/Part1-training_ControlNet/part1_1-Dataset_preperation/EVA-8_Capstone_Assignment/Part1-training_ControlNet/part1_1-Dataset_preperation/EVA-8_Capstone_Assignment/Part1-training_ControlNet/part1_1-Dataset_preperation/Images/n02085620_4441.jpg\n",
            "processing image /content/none/Part1-training_ControlNet/part1_1-Dataset_preperation/EVA-8_Capstone_Assignment/Part1-training_ControlNet/part1_1-Dataset_preperation/EVA-8_Capstone_Assignment/Part1-training_ControlNet/part1_1-Dataset_preperation/Images/n02085620_1502.jpg\n",
            "processing image /content/none/Part1-training_ControlNet/part1_1-Dataset_preperation/EVA-8_Capstone_Assignment/Part1-training_ControlNet/part1_1-Dataset_preperation/EVA-8_Capstone_Assignment/Part1-training_ControlNet/part1_1-Dataset_preperation/Images/n02085620_3826.jpg\n",
            "processing image /content/none/Part1-training_ControlNet/part1_1-Dataset_preperation/EVA-8_Capstone_Assignment/Part1-training_ControlNet/part1_1-Dataset_preperation/EVA-8_Capstone_Assignment/Part1-training_ControlNet/part1_1-Dataset_preperation/Images/n02085620_11948.jpg\n",
            "processing image /content/none/Part1-training_ControlNet/part1_1-Dataset_preperation/EVA-8_Capstone_Assignment/Part1-training_ControlNet/part1_1-Dataset_preperation/EVA-8_Capstone_Assignment/Part1-training_ControlNet/part1_1-Dataset_preperation/Images/n02085620_14252.jpg\n",
            "processing image /content/none/Part1-training_ControlNet/part1_1-Dataset_preperation/EVA-8_Capstone_Assignment/Part1-training_ControlNet/part1_1-Dataset_preperation/EVA-8_Capstone_Assignment/Part1-training_ControlNet/part1_1-Dataset_preperation/Images/n02085620_3681.jpg\n",
            "processing image /content/none/Part1-training_ControlNet/part1_1-Dataset_preperation/EVA-8_Capstone_Assignment/Part1-training_ControlNet/part1_1-Dataset_preperation/EVA-8_Capstone_Assignment/Part1-training_ControlNet/part1_1-Dataset_preperation/Images/n02085620_1455.jpg\n",
            "processing image /content/none/Part1-training_ControlNet/part1_1-Dataset_preperation/EVA-8_Capstone_Assignment/Part1-training_ControlNet/part1_1-Dataset_preperation/EVA-8_Capstone_Assignment/Part1-training_ControlNet/part1_1-Dataset_preperation/Images/n02085620_2937.jpg\n",
            "processing image /content/none/Part1-training_ControlNet/part1_1-Dataset_preperation/EVA-8_Capstone_Assignment/Part1-training_ControlNet/part1_1-Dataset_preperation/EVA-8_Capstone_Assignment/Part1-training_ControlNet/part1_1-Dataset_preperation/Images/n02085620_12334.jpg\n",
            "processing image /content/none/Part1-training_ControlNet/part1_1-Dataset_preperation/EVA-8_Capstone_Assignment/Part1-training_ControlNet/part1_1-Dataset_preperation/EVA-8_Capstone_Assignment/Part1-training_ControlNet/part1_1-Dataset_preperation/Images/n02085620_2903.jpg\n",
            "processing image /content/none/Part1-training_ControlNet/part1_1-Dataset_preperation/EVA-8_Capstone_Assignment/Part1-training_ControlNet/part1_1-Dataset_preperation/EVA-8_Capstone_Assignment/Part1-training_ControlNet/part1_1-Dataset_preperation/Images/n02085620_2053.jpg\n",
            "processing image /content/none/Part1-training_ControlNet/part1_1-Dataset_preperation/EVA-8_Capstone_Assignment/Part1-training_ControlNet/part1_1-Dataset_preperation/EVA-8_Capstone_Assignment/Part1-training_ControlNet/part1_1-Dataset_preperation/Images/n02085620_3593.jpg\n",
            "processing image /content/none/Part1-training_ControlNet/part1_1-Dataset_preperation/EVA-8_Capstone_Assignment/Part1-training_ControlNet/part1_1-Dataset_preperation/EVA-8_Capstone_Assignment/Part1-training_ControlNet/part1_1-Dataset_preperation/Images/n02085620_3409.jpg\n",
            "processing image /content/none/Part1-training_ControlNet/part1_1-Dataset_preperation/EVA-8_Capstone_Assignment/Part1-training_ControlNet/part1_1-Dataset_preperation/EVA-8_Capstone_Assignment/Part1-training_ControlNet/part1_1-Dataset_preperation/Images/n02085620_1235.jpg\n",
            "processing image /content/none/Part1-training_ControlNet/part1_1-Dataset_preperation/EVA-8_Capstone_Assignment/Part1-training_ControlNet/part1_1-Dataset_preperation/EVA-8_Capstone_Assignment/Part1-training_ControlNet/part1_1-Dataset_preperation/Images/n02085620_1205.jpg\n",
            "processing image /content/none/Part1-training_ControlNet/part1_1-Dataset_preperation/EVA-8_Capstone_Assignment/Part1-training_ControlNet/part1_1-Dataset_preperation/EVA-8_Capstone_Assignment/Part1-training_ControlNet/part1_1-Dataset_preperation/Images/n02085620_2188.jpg\n",
            "processing image /content/none/Part1-training_ControlNet/part1_1-Dataset_preperation/EVA-8_Capstone_Assignment/Part1-training_ControlNet/part1_1-Dataset_preperation/EVA-8_Capstone_Assignment/Part1-training_ControlNet/part1_1-Dataset_preperation/Images/n02085620_2614.jpg\n",
            "processing image /content/none/Part1-training_ControlNet/part1_1-Dataset_preperation/EVA-8_Capstone_Assignment/Part1-training_ControlNet/part1_1-Dataset_preperation/EVA-8_Capstone_Assignment/Part1-training_ControlNet/part1_1-Dataset_preperation/Images/n02085620_3677.jpg\n",
            "processing image /content/none/Part1-training_ControlNet/part1_1-Dataset_preperation/EVA-8_Capstone_Assignment/Part1-training_ControlNet/part1_1-Dataset_preperation/EVA-8_Capstone_Assignment/Part1-training_ControlNet/part1_1-Dataset_preperation/Images/n02085620_10131.jpg\n",
            "processing image /content/none/Part1-training_ControlNet/part1_1-Dataset_preperation/EVA-8_Capstone_Assignment/Part1-training_ControlNet/part1_1-Dataset_preperation/EVA-8_Capstone_Assignment/Part1-training_ControlNet/part1_1-Dataset_preperation/Images/n02085620_12718.jpg\n",
            "processing image /content/none/Part1-training_ControlNet/part1_1-Dataset_preperation/EVA-8_Capstone_Assignment/Part1-training_ControlNet/part1_1-Dataset_preperation/EVA-8_Capstone_Assignment/Part1-training_ControlNet/part1_1-Dataset_preperation/Images/n02085620_3975.jpg\n",
            "processing image /content/none/Part1-training_ControlNet/part1_1-Dataset_preperation/EVA-8_Capstone_Assignment/Part1-training_ControlNet/part1_1-Dataset_preperation/EVA-8_Capstone_Assignment/Part1-training_ControlNet/part1_1-Dataset_preperation/Images/n02085620_2887.jpg\n",
            "processing image /content/none/Part1-training_ControlNet/part1_1-Dataset_preperation/EVA-8_Capstone_Assignment/Part1-training_ControlNet/part1_1-Dataset_preperation/EVA-8_Capstone_Assignment/Part1-training_ControlNet/part1_1-Dataset_preperation/Images/n02085620_1271.jpg\n",
            "processing image /content/none/Part1-training_ControlNet/part1_1-Dataset_preperation/EVA-8_Capstone_Assignment/Part1-training_ControlNet/part1_1-Dataset_preperation/EVA-8_Capstone_Assignment/Part1-training_ControlNet/part1_1-Dataset_preperation/Images/n02085620_10621.jpg\n",
            "processing image /content/none/Part1-training_ControlNet/part1_1-Dataset_preperation/EVA-8_Capstone_Assignment/Part1-training_ControlNet/part1_1-Dataset_preperation/EVA-8_Capstone_Assignment/Part1-training_ControlNet/part1_1-Dataset_preperation/Images/n02085620_3651.jpg\n",
            "processing image /content/none/Part1-training_ControlNet/part1_1-Dataset_preperation/EVA-8_Capstone_Assignment/Part1-training_ControlNet/part1_1-Dataset_preperation/EVA-8_Capstone_Assignment/Part1-training_ControlNet/part1_1-Dataset_preperation/Images/n02085620_1073.jpg\n",
            "processing image /content/none/Part1-training_ControlNet/part1_1-Dataset_preperation/EVA-8_Capstone_Assignment/Part1-training_ControlNet/part1_1-Dataset_preperation/EVA-8_Capstone_Assignment/Part1-training_ControlNet/part1_1-Dataset_preperation/Images/n02085620_1492.jpg\n",
            "processing image /content/none/Part1-training_ControlNet/part1_1-Dataset_preperation/EVA-8_Capstone_Assignment/Part1-training_ControlNet/part1_1-Dataset_preperation/EVA-8_Capstone_Assignment/Part1-training_ControlNet/part1_1-Dataset_preperation/Images/n02085620_4207.jpg\n",
            "processing image /content/none/Part1-training_ControlNet/part1_1-Dataset_preperation/EVA-8_Capstone_Assignment/Part1-training_ControlNet/part1_1-Dataset_preperation/EVA-8_Capstone_Assignment/Part1-training_ControlNet/part1_1-Dataset_preperation/Images/n02085620_3006.jpg\n",
            "processing image /content/none/Part1-training_ControlNet/part1_1-Dataset_preperation/EVA-8_Capstone_Assignment/Part1-training_ControlNet/part1_1-Dataset_preperation/EVA-8_Capstone_Assignment/Part1-training_ControlNet/part1_1-Dataset_preperation/Images/n02085620_10074.jpg\n",
            "processing image /content/none/Part1-training_ControlNet/part1_1-Dataset_preperation/EVA-8_Capstone_Assignment/Part1-training_ControlNet/part1_1-Dataset_preperation/EVA-8_Capstone_Assignment/Part1-training_ControlNet/part1_1-Dataset_preperation/Images/n02085620_2973.jpg\n",
            "processing image /content/none/Part1-training_ControlNet/part1_1-Dataset_preperation/EVA-8_Capstone_Assignment/Part1-training_ControlNet/part1_1-Dataset_preperation/EVA-8_Capstone_Assignment/Part1-training_ControlNet/part1_1-Dataset_preperation/Images/n02085620_3928.jpg\n",
            "processing image /content/none/Part1-training_ControlNet/part1_1-Dataset_preperation/EVA-8_Capstone_Assignment/Part1-training_ControlNet/part1_1-Dataset_preperation/EVA-8_Capstone_Assignment/Part1-training_ControlNet/part1_1-Dataset_preperation/Images/n02085620_1916.jpg\n",
            "processing image /content/none/Part1-training_ControlNet/part1_1-Dataset_preperation/EVA-8_Capstone_Assignment/Part1-training_ControlNet/part1_1-Dataset_preperation/EVA-8_Capstone_Assignment/Part1-training_ControlNet/part1_1-Dataset_preperation/Images/n02085620_1346.jpg\n",
            "processing image /content/none/Part1-training_ControlNet/part1_1-Dataset_preperation/EVA-8_Capstone_Assignment/Part1-training_ControlNet/part1_1-Dataset_preperation/EVA-8_Capstone_Assignment/Part1-training_ControlNet/part1_1-Dataset_preperation/Images/n02085620_11258.jpg\n",
            "processing image /content/none/Part1-training_ControlNet/part1_1-Dataset_preperation/EVA-8_Capstone_Assignment/Part1-training_ControlNet/part1_1-Dataset_preperation/EVA-8_Capstone_Assignment/Part1-training_ControlNet/part1_1-Dataset_preperation/Images/n02085620_11477.jpg\n",
            "processing image /content/none/Part1-training_ControlNet/part1_1-Dataset_preperation/EVA-8_Capstone_Assignment/Part1-training_ControlNet/part1_1-Dataset_preperation/EVA-8_Capstone_Assignment/Part1-training_ControlNet/part1_1-Dataset_preperation/Images/n02085620_13383.jpg\n",
            "processing image /content/none/Part1-training_ControlNet/part1_1-Dataset_preperation/EVA-8_Capstone_Assignment/Part1-training_ControlNet/part1_1-Dataset_preperation/EVA-8_Capstone_Assignment/Part1-training_ControlNet/part1_1-Dataset_preperation/Images/n02085620_3838.jpg\n",
            "processing image /content/none/Part1-training_ControlNet/part1_1-Dataset_preperation/EVA-8_Capstone_Assignment/Part1-training_ControlNet/part1_1-Dataset_preperation/EVA-8_Capstone_Assignment/Part1-training_ControlNet/part1_1-Dataset_preperation/Images/n02085620_3942.jpg\n",
            "processing image /content/none/Part1-training_ControlNet/part1_1-Dataset_preperation/EVA-8_Capstone_Assignment/Part1-training_ControlNet/part1_1-Dataset_preperation/EVA-8_Capstone_Assignment/Part1-training_ControlNet/part1_1-Dataset_preperation/Images/n02085620_1765.jpg\n",
            "processing image /content/none/Part1-training_ControlNet/part1_1-Dataset_preperation/EVA-8_Capstone_Assignment/Part1-training_ControlNet/part1_1-Dataset_preperation/EVA-8_Capstone_Assignment/Part1-training_ControlNet/part1_1-Dataset_preperation/Images/n02085620_2507.jpg\n",
            "processing image /content/none/Part1-training_ControlNet/part1_1-Dataset_preperation/EVA-8_Capstone_Assignment/Part1-training_ControlNet/part1_1-Dataset_preperation/EVA-8_Capstone_Assignment/Part1-training_ControlNet/part1_1-Dataset_preperation/Images/n02085620_431.jpg\n",
            "processing image /content/none/Part1-training_ControlNet/part1_1-Dataset_preperation/EVA-8_Capstone_Assignment/Part1-training_ControlNet/part1_1-Dataset_preperation/EVA-8_Capstone_Assignment/Part1-training_ControlNet/part1_1-Dataset_preperation/Images/n02085620_1617.jpg\n",
            "processing image /content/none/Part1-training_ControlNet/part1_1-Dataset_preperation/EVA-8_Capstone_Assignment/Part1-training_ControlNet/part1_1-Dataset_preperation/EVA-8_Capstone_Assignment/Part1-training_ControlNet/part1_1-Dataset_preperation/Images/n02085620_4290.jpg\n",
            "processing image /content/none/Part1-training_ControlNet/part1_1-Dataset_preperation/EVA-8_Capstone_Assignment/Part1-training_ControlNet/part1_1-Dataset_preperation/EVA-8_Capstone_Assignment/Part1-training_ControlNet/part1_1-Dataset_preperation/Images/n02085620_326.jpg\n",
            "processing image /content/none/Part1-training_ControlNet/part1_1-Dataset_preperation/EVA-8_Capstone_Assignment/Part1-training_ControlNet/part1_1-Dataset_preperation/EVA-8_Capstone_Assignment/Part1-training_ControlNet/part1_1-Dataset_preperation/Images/n02085620_11818.jpg\n",
            "processing image /content/none/Part1-training_ControlNet/part1_1-Dataset_preperation/EVA-8_Capstone_Assignment/Part1-training_ControlNet/part1_1-Dataset_preperation/EVA-8_Capstone_Assignment/Part1-training_ControlNet/part1_1-Dataset_preperation/Images/n02085620_4515.jpg\n",
            "processing image /content/none/Part1-training_ControlNet/part1_1-Dataset_preperation/EVA-8_Capstone_Assignment/Part1-training_ControlNet/part1_1-Dataset_preperation/EVA-8_Capstone_Assignment/Part1-training_ControlNet/part1_1-Dataset_preperation/Images/n02085620_4266.jpg\n",
            "processing image /content/none/Part1-training_ControlNet/part1_1-Dataset_preperation/EVA-8_Capstone_Assignment/Part1-training_ControlNet/part1_1-Dataset_preperation/EVA-8_Capstone_Assignment/Part1-training_ControlNet/part1_1-Dataset_preperation/Images/n02085620_1816.jpg\n",
            "processing image /content/none/Part1-training_ControlNet/part1_1-Dataset_preperation/EVA-8_Capstone_Assignment/Part1-training_ControlNet/part1_1-Dataset_preperation/EVA-8_Capstone_Assignment/Part1-training_ControlNet/part1_1-Dataset_preperation/Images/n02085620_11140.jpg\n",
            "processing image /content/none/Part1-training_ControlNet/part1_1-Dataset_preperation/EVA-8_Capstone_Assignment/Part1-training_ControlNet/part1_1-Dataset_preperation/EVA-8_Capstone_Assignment/Part1-training_ControlNet/part1_1-Dataset_preperation/Images/n02085620_3485.jpg\n",
            "processing image /content/none/Part1-training_ControlNet/part1_1-Dataset_preperation/EVA-8_Capstone_Assignment/Part1-training_ControlNet/part1_1-Dataset_preperation/EVA-8_Capstone_Assignment/Part1-training_ControlNet/part1_1-Dataset_preperation/Images/n02085620_13151.jpg\n",
            "processing image /content/none/Part1-training_ControlNet/part1_1-Dataset_preperation/EVA-8_Capstone_Assignment/Part1-training_ControlNet/part1_1-Dataset_preperation/EVA-8_Capstone_Assignment/Part1-training_ControlNet/part1_1-Dataset_preperation/Images/n02085620_1862.jpg\n",
            "processing image /content/none/Part1-training_ControlNet/part1_1-Dataset_preperation/EVA-8_Capstone_Assignment/Part1-training_ControlNet/part1_1-Dataset_preperation/EVA-8_Capstone_Assignment/Part1-training_ControlNet/part1_1-Dataset_preperation/Images/n02085620_382.jpg\n",
            "processing image /content/none/Part1-training_ControlNet/part1_1-Dataset_preperation/EVA-8_Capstone_Assignment/Part1-training_ControlNet/part1_1-Dataset_preperation/EVA-8_Capstone_Assignment/Part1-training_ControlNet/part1_1-Dataset_preperation/Images/n02085620_3045.jpg\n",
            "processing image /content/none/Part1-training_ControlNet/part1_1-Dataset_preperation/EVA-8_Capstone_Assignment/Part1-training_ControlNet/part1_1-Dataset_preperation/EVA-8_Capstone_Assignment/Part1-training_ControlNet/part1_1-Dataset_preperation/Images/n02085620_13964.jpg\n",
            "processing image /content/none/Part1-training_ControlNet/part1_1-Dataset_preperation/EVA-8_Capstone_Assignment/Part1-training_ControlNet/part1_1-Dataset_preperation/EVA-8_Capstone_Assignment/Part1-training_ControlNet/part1_1-Dataset_preperation/Images/n02085620_12101.jpg\n",
            "processing image /content/none/Part1-training_ControlNet/part1_1-Dataset_preperation/EVA-8_Capstone_Assignment/Part1-training_ControlNet/part1_1-Dataset_preperation/EVA-8_Capstone_Assignment/Part1-training_ControlNet/part1_1-Dataset_preperation/Images/n02085620_10976.jpg\n",
            "processing image /content/none/Part1-training_ControlNet/part1_1-Dataset_preperation/EVA-8_Capstone_Assignment/Part1-training_ControlNet/part1_1-Dataset_preperation/EVA-8_Capstone_Assignment/Part1-training_ControlNet/part1_1-Dataset_preperation/Images/n02085620_3033.jpg\n",
            "processing image /content/none/Part1-training_ControlNet/part1_1-Dataset_preperation/EVA-8_Capstone_Assignment/Part1-training_ControlNet/part1_1-Dataset_preperation/EVA-8_Capstone_Assignment/Part1-training_ControlNet/part1_1-Dataset_preperation/Images/n02085620_1321.jpg\n",
            "processing image /content/none/Part1-training_ControlNet/part1_1-Dataset_preperation/EVA-8_Capstone_Assignment/Part1-training_ControlNet/part1_1-Dataset_preperation/EVA-8_Capstone_Assignment/Part1-training_ControlNet/part1_1-Dataset_preperation/Images/n02085620_199.jpg\n",
            "processing image /content/none/Part1-training_ControlNet/part1_1-Dataset_preperation/EVA-8_Capstone_Assignment/Part1-training_ControlNet/part1_1-Dataset_preperation/EVA-8_Capstone_Assignment/Part1-training_ControlNet/part1_1-Dataset_preperation/Images/n02085620_2208.jpg\n"
          ]
        }
      ],
      "source": [
        "!python run_generation.py"
      ]
    },
    {
      "attachments": {},
      "cell_type": "markdown",
      "metadata": {
        "id": "LvvRJdckG_Sl"
      },
      "source": [
        "- This script will create a new folder \"dataset\". And it will have three directory:\n",
        "  - source -> edge images\n",
        "  - target -> original images\n",
        "  - prompt.json -> json file containing image names and generated prompt!"
      ]
    },
    {
      "cell_type": "code",
      "execution_count": 36,
      "metadata": {
        "colab": {
          "base_uri": "https://localhost:8080/"
        },
        "id": "I171_dBGG-Js",
        "outputId": "ed48779d-180b-44d4-8d18-a6e4d30463bc"
      },
      "outputs": [
        {
          "name": "stdout",
          "output_type": "stream",
          "text": [
            "directory\n",
            "annotator  dataset  __init__.py\t\t\t   requirements.txt\n",
            "captioner  Images   Part1_1-prepare_dataset.ipynb  run_generation.py\n",
            "dataset directory\n",
            "prompt.json  source  target\n"
          ]
        }
      ],
      "source": [
        "print(\"directory\")\n",
        "!ls\n",
        "print(\"dataset directory\")\n",
        "!cd dataset && ls"
      ]
    },
    {
      "attachments": {},
      "cell_type": "markdown",
      "metadata": {
        "id": "sxeAt0UYHkIA"
      },
      "source": [
        "Copy out dataset to gdrive so that we can train on this dataset in our next colab file in part1_2!"
      ]
    },
    {
      "cell_type": "code",
      "execution_count": 42,
      "metadata": {
        "colab": {
          "base_uri": "https://localhost:8080/"
        },
        "id": "DaOW1iSjHh5Q",
        "outputId": "491daaeb-e549-43e9-de15-f09c0b231509"
      },
      "outputs": [
        {
          "name": "stdout",
          "output_type": "stream",
          "text": [
            "dataset\n"
          ]
        }
      ],
      "source": [
        "!mv dataset /content/gdrive/MyDrive/controlnet_dataset\n",
        "!cd /content/gdrive/MyDrive/controlnet_dataset && ls"
      ]
    },
    {
      "attachments": {},
      "cell_type": "markdown",
      "metadata": {
        "id": "b4LbngT_IadZ"
      },
      "source": [
        "## Now we are ready to train on our Dog dataset!\n",
        "Open this colab file from the repo [colab notebook](https://github.com/devdastl/EVA-8_Capstone_Assignment/blob/main/Part1-training_ControlNet/part1_2-Training_ControlNet/controlnet_training_capstone.ipynb)"
      ]
    }
  ],
  "metadata": {
    "accelerator": "GPU",
    "colab": {
      "gpuType": "T4",
      "provenance": []
    },
    "gpuClass": "standard",
    "kernelspec": {
      "display_name": "Python 3",
      "name": "python3"
    },
    "language_info": {
      "name": "python"
    }
  },
  "nbformat": 4,
  "nbformat_minor": 0
}
